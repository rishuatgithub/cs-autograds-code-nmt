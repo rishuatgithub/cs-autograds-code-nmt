{
 "cells": [
  {
   "cell_type": "code",
   "execution_count": 63,
   "metadata": {},
   "outputs": [
    {
     "data": {
      "text/plain": [
       "\"int fromXYZZZ(){ return 12000; } int sum2num(int a, int b){ int s=0; if(a>b){s = a+b;} return s; } string ff(){return 'xxx';}\""
      ]
     },
     "execution_count": 63,
     "metadata": {},
     "output_type": "execute_result"
    }
   ],
   "source": [
    "input=\"int fromXYZZZ(){ return 12000; } int sum2num(int a, int b){ int s=0; if(a>b){s = a+b;} return s; } string ff(){return 'xxx';}\"\n",
    "input"
   ]
  },
  {
   "cell_type": "code",
   "execution_count": 66,
   "metadata": {},
   "outputs": [],
   "source": [
    "def splitJavaInputByBlocks(input):\n",
    "    input_split = input.split()\n",
    "    block_pos = []\n",
    "    block_counter = 0\n",
    "    #block_pos.append(-1)\n",
    "    for b, i in enumerate(input_split):\n",
    "        print(b,'.  ',i)\n",
    "        if '{' in i:\n",
    "            block_counter += 1\n",
    "            print(\">\",block_counter)\n",
    "        if '}' in i:\n",
    "            block_counter -= 1\n",
    "            print(\"<\",block_counter)\n",
    "            if block_counter == 0:\n",
    "                block_pos.append(b)\n",
    "#    print(input_split)\n",
    "    print(block_pos)\n",
    "    \n",
    "    output = []\n",
    "    start_pos = []\n",
    "    for i, bpos in enumerate(block_pos):\n",
    "        if i == 0:\n",
    "            start_pos.append(0)\n",
    "        else:\n",
    "            start_pos.append(block_pos[i-1]+1)\n",
    "    \n",
    "    print(start_pos)\n",
    "    \n",
    "    for i, end_pos in enumerate(block_pos):\n",
    "        output.append(input_split[start_pos[i]:end_pos+1])\n",
    "        \n",
    "    \n",
    "    return [' '.join(o) for o in output]"
   ]
  },
  {
   "cell_type": "code",
   "execution_count": 67,
   "metadata": {},
   "outputs": [
    {
     "name": "stdout",
     "output_type": "stream",
     "text": [
      "0 .   int\n",
      "1 .   fromXYZZZ(){\n",
      "> 1\n",
      "2 .   return\n",
      "3 .   12000;\n",
      "4 .   }\n",
      "< 0\n",
      "5 .   int\n",
      "6 .   sum2num(int\n",
      "7 .   a,\n",
      "8 .   int\n",
      "9 .   b){\n",
      "> 1\n",
      "10 .   int\n",
      "11 .   s=0;\n",
      "12 .   if(a>b){s\n",
      "> 2\n",
      "13 .   =\n",
      "14 .   a+b;}\n",
      "< 1\n",
      "15 .   return\n",
      "16 .   s;\n",
      "17 .   }\n",
      "< 0\n",
      "18 .   string\n",
      "19 .   ff(){return\n",
      "> 1\n",
      "20 .   'xxx';}\n",
      "< 0\n",
      "[4, 17, 20]\n",
      "[0, 5, 18]\n"
     ]
    },
    {
     "data": {
      "text/plain": [
       "['int fromXYZZZ(){ return 12000; }',\n",
       " 'int sum2num(int a, int b){ int s=0; if(a>b){s = a+b;} return s; }',\n",
       " \"string ff(){return 'xxx';}\"]"
      ]
     },
     "execution_count": 67,
     "metadata": {},
     "output_type": "execute_result"
    }
   ],
   "source": [
    "splitJavaInputByBlocks(input)"
   ]
  },
  {
   "cell_type": "code",
   "execution_count": null,
   "metadata": {},
   "outputs": [],
   "source": []
  },
  {
   "cell_type": "code",
   "execution_count": null,
   "metadata": {},
   "outputs": [],
   "source": []
  }
 ],
 "metadata": {
  "kernelspec": {
   "display_name": "Python 3",
   "language": "python",
   "name": "python3"
  },
  "language_info": {
   "codemirror_mode": {
    "name": "ipython",
    "version": 3
   },
   "file_extension": ".py",
   "mimetype": "text/x-python",
   "name": "python",
   "nbconvert_exporter": "python",
   "pygments_lexer": "ipython3",
   "version": "3.8.2"
  }
 },
 "nbformat": 4,
 "nbformat_minor": 4
}
