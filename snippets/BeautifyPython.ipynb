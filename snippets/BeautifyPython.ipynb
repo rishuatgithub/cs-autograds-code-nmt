{
 "cells": [
  {
   "cell_type": "code",
   "execution_count": 1,
   "metadata": {},
   "outputs": [],
   "source": [
    "#!conda install yapf -y"
   ]
  },
  {
   "cell_type": "code",
   "execution_count": 2,
   "metadata": {},
   "outputs": [],
   "source": [
    "import os\n",
    "import io\n",
    "import boto3\n",
    "import json\n",
    "import base64\n",
    "from yapf.yapflib.yapf_api import FormatCode"
   ]
  },
  {
   "cell_type": "code",
   "execution_count": 3,
   "metadata": {},
   "outputs": [],
   "source": [
    "MODEL_ENDPOINT='nct-model-endpoint'\n",
    "runtime = boto3.client('runtime.sagemaker')"
   ]
  },
  {
   "cell_type": "code",
   "execution_count": 4,
   "metadata": {},
   "outputs": [
    {
     "name": "stdout",
     "output_type": "stream",
     "text": [
      "{\"input\":\"Public int countFromArray(String target, ArrayList<String> array){ int count=0; for(String str: array){ if (target.equals(str)){ count++; }} return count; }\"}\n"
     ]
    }
   ],
   "source": [
    "#event='{\"input\":\"int fromaws(){ return 8888; }\"}'\n",
    "event = '{\"input\":\"Public int countFromArray(String target, ArrayList<String> array){ int count=0; for(String str: array){ if (target.equals(str)){ count++; }} return count; }\"}'\n",
    "data = event\n",
    "\n",
    "print(data)"
   ]
  },
  {
   "cell_type": "code",
   "execution_count": 5,
   "metadata": {},
   "outputs": [
    {
     "name": "stdout",
     "output_type": "stream",
     "text": [
      "{\"input\": \"Public int countFromArray(String target, ArrayList<String> array){ int count=0; for(String str: array){ if (target.equals(str)){ count++; }} return count; }\", \"output\": [\"def\", \"Public\", \"(\", \"target\", \",\", \"array\", \")\", \":\", \"NEW_LINE\", \"INDENT\", \"count\", \"=\", \"0\", \"NEW_LINE\", \"for\", \"str\", \"in\", \"array\", \":\", \"NEW_LINE\", \"INDENT\", \"if\", \"target\", \"==\", \"str\", \":\", \"NEW_LINE\", \"INDENT\", \"count\", \"+=\", \"1\", \"NEW_LINE\", \"DEDENT\", \"DEDENT\", \"return\", \"count\", \"NEW_LINE\", \"DEDENT\", \"NEW_LINE\"]}\n"
     ]
    }
   ],
   "source": [
    "response = runtime.invoke_endpoint(EndpointName=MODEL_ENDPOINT,\n",
    "                                   ContentType='application/json',\n",
    "                                   Body=data)\n",
    "\n",
    "result = response['Body'].read().decode()\n",
    "\n",
    "print(result)"
   ]
  },
  {
   "cell_type": "code",
   "execution_count": 67,
   "metadata": {},
   "outputs": [
    {
     "data": {
      "text/plain": [
       "['def',\n",
       " 'Public',\n",
       " '(',\n",
       " 'target',\n",
       " ',',\n",
       " 'array',\n",
       " ')',\n",
       " ':',\n",
       " 'NEW_LINE',\n",
       " 'INDENT',\n",
       " 'count',\n",
       " '=',\n",
       " '0',\n",
       " 'NEW_LINE',\n",
       " 'for',\n",
       " 'str',\n",
       " 'in',\n",
       " 'array',\n",
       " ':',\n",
       " 'NEW_LINE',\n",
       " 'INDENT',\n",
       " 'if',\n",
       " 'target',\n",
       " '==',\n",
       " 'str',\n",
       " ':',\n",
       " 'NEW_LINE',\n",
       " 'INDENT',\n",
       " 'count',\n",
       " '+=',\n",
       " '1',\n",
       " 'NEW_LINE',\n",
       " 'DEDENT',\n",
       " 'DEDENT',\n",
       " 'return',\n",
       " 'count',\n",
       " 'NEW_LINE',\n",
       " 'DEDENT',\n",
       " 'NEW_LINE']"
      ]
     },
     "execution_count": 67,
     "metadata": {},
     "output_type": "execute_result"
    }
   ],
   "source": [
    "jsonresult = json.loads(result)\n",
    "out = jsonresult['output']\n",
    "#out_list = [ token.replace('NEW_LINE','\\n').replace('INDENT','\\t').replace('DEDENT','') for token in out]\n",
    "out_list = [ token for token in out]\n",
    "\n",
    "out_formatted = ' '.join(out_list)\n",
    "#out_formatted\n",
    "#print(out_formatted)\n",
    "out"
   ]
  },
  {
   "cell_type": "code",
   "execution_count": 68,
   "metadata": {},
   "outputs": [
    {
     "name": "stdout",
     "output_type": "stream",
     "text": [
      "[0, 0, 0, 0, 0, 0, 0, 0, 99999, 1, 1, 1, 1, 99999, 1, 1, 1, 1, 1, 99999, 2, 2, 2, 2, 2, 2, 99999, 3, 3, 3, 3, 99999, 2, 1, 1, 1, 99999, 0, 99999]\n",
      "[0, 0, 0, 0, 0, 0, 0, 0, 99999, 1, 0, 0, 0, 99999, 1, 0, 0, 0, 0, 99999, 2, 0, 0, 0, 0, 0, 99999, 3, 0, 0, 0, 99999, 2, 1, 0, 0, 99999, 0, 99999]\n",
      "['def', 'Public', '(', 'target', ',', 'array', ')', ':', '\\n', '    ', 'count', '=', '0', '\\n', '    for', 'str', 'in', 'array', ':', '\\n', '        ', 'if', 'target', '==', 'str', ':', '\\n', '            ', 'count', '+=', '1', '\\n', '        ', '    ', 'return', 'count', '\\n', '', '\\n']\n",
      "def Public ( target , array ) : \n",
      "      count = 0 \n",
      "     for str in array : \n",
      "          if target == str : \n",
      "              count += 1 \n",
      "               return count \n",
      "  \n",
      "\n",
      "def Public ( target , array ) :\n",
      "count = 0\n",
      "for str in array :\n",
      "if target == str :\n",
      "count += 1\n",
      "return count\n",
      "\n",
      "\n"
     ]
    }
   ],
   "source": [
    "import re\n",
    "\n",
    "new_out=[]\n",
    "indent_list=[]\n",
    "indent_count=0\n",
    "indent_list_updated=[]\n",
    "\n",
    "for token in out:\n",
    "    if token == 'INDENT':\n",
    "        indent_count+=1\n",
    "        indent_list.append(indent_count)\n",
    "    elif token == 'NEW_LINE':\n",
    "        indent_list.append(99999)\n",
    "    elif token == 'DEDENT':\n",
    "        indent_count-=1\n",
    "        indent_list.append(indent_count)\n",
    "    else:\n",
    "        indent_list.append(indent_count)\n",
    "    \n",
    "\n",
    "for b, indent in enumerate(indent_list):\n",
    "    if indent_list[b-1] == indent:\n",
    "        indent_list_updated.append(0)\n",
    "    else:\n",
    "        indent_list_updated.append(indent_list[b])\n",
    "    \n",
    "print(indent_list)\n",
    "print(indent_list_updated)\n",
    "\n",
    "assert len(indent_list) == len(indent_list_updated) == len(out)\n",
    "\n",
    "for i in range(len(out)):\n",
    "    if indent_list_updated[i] == 99999:\n",
    "        new_out.append('\\n')\n",
    "    elif out[i] == 'INDENT' or out[i] == 'DEDENT':\n",
    "        new_out.append(' '*4*indent_list_updated[i])\n",
    "    else:\n",
    "        new_out.append(' '*4*indent_list_updated[i]+out[i])\n",
    "\n",
    "print(new_out)\n",
    "#print(len(new_out))\n",
    "\n",
    "assert len(out) == len(new_out)\n",
    "\n",
    "new_out2=' '.join(new_out)\n",
    "print(new_out2)\n",
    "\n",
    "#out3=new_out2.split('\\n')\n",
    "for items in out3:\n",
    "    print(items.strip())"
   ]
  },
  {
   "cell_type": "code",
   "execution_count": 75,
   "metadata": {},
   "outputs": [
    {
     "name": "stdout",
     "output_type": "stream",
     "text": [
      "def Public ( target , array ) :\n",
      "   count    =    0\n",
      "   for    str    in    array    :\n",
      "      if       target       ==       str       :\n",
      "         count          +=          1\n",
      "   return    count\n",
      "\n",
      "\n"
     ]
    }
   ],
   "source": [
    "def beautify_pycode(data):\n",
    "    '''\n",
    "        This code beautifies the model output in python.\n",
    "    '''\n",
    "    x=' '.join(data).split('NEW_LINE')\n",
    "    \n",
    "    indent_count = 0\n",
    "    output=[]\n",
    "    \n",
    "    for items in x:\n",
    "        o = []\n",
    "        token = items.strip().split(' ')\n",
    "        #print(token)\n",
    "        for t in token:\n",
    "            if t == 'INDENT':\n",
    "                indent_count+=1\n",
    "            elif t == 'DEDENT':\n",
    "                indent_count-=1\n",
    "            else:\n",
    "                o.append(' '*3*indent_count+t)\n",
    "        \n",
    "        output.append(o)\n",
    "\n",
    "    temp_out = [' '.join(o) for o in output]\n",
    "    return str('\\n'.join(temp_out))\n",
    " \n",
    "\n",
    "print(beautify_pycode(out))"
   ]
  },
  {
   "cell_type": "code",
   "execution_count": 129,
   "metadata": {
    "scrolled": true
   },
   "outputs": [],
   "source": [
    "#!conda install yapf -y"
   ]
  },
  {
   "cell_type": "code",
   "execution_count": 254,
   "metadata": {},
   "outputs": [],
   "source": [
    "#from yapf.yapflib.yapf_api import FormatCode"
   ]
  },
  {
   "cell_type": "code",
   "execution_count": 255,
   "metadata": {},
   "outputs": [],
   "source": [
    "#FormatCode(new_out2)"
   ]
  },
  {
   "cell_type": "code",
   "execution_count": 256,
   "metadata": {},
   "outputs": [],
   "source": [
    "#!conda install autopep8 -y"
   ]
  },
  {
   "cell_type": "code",
   "execution_count": 261,
   "metadata": {},
   "outputs": [],
   "source": [
    "import autopep8"
   ]
  },
  {
   "cell_type": "code",
   "execution_count": 267,
   "metadata": {},
   "outputs": [
    {
     "name": "stdout",
     "output_type": "stream",
     "text": [
      "def __count_from_array(target, array):\n",
      "      count = 0\n",
      "     for str in array : \n",
      "          if target == str : \n",
      "              count += 1 \n",
      "               return count \n",
      "  \n",
      "\n"
     ]
    }
   ],
   "source": [
    "ap_out_formatted = autopep8.fix_code(new_out2)\n",
    "print(ap_out_formatted)"
   ]
  },
  {
   "cell_type": "code",
   "execution_count": 263,
   "metadata": {},
   "outputs": [
    {
     "ename": "AssertionError",
     "evalue": "",
     "output_type": "error",
     "traceback": [
      "\u001b[0;31m---------------------------------------------------------------------------\u001b[0m",
      "\u001b[0;31mAssertionError\u001b[0m                            Traceback (most recent call last)",
      "\u001b[0;32m<ipython-input-263-10552d270c3c>\u001b[0m in \u001b[0;36m<module>\u001b[0;34m\u001b[0m\n\u001b[0;32m----> 1\u001b[0;31m \u001b[0mautopep8\u001b[0m\u001b[0;34m.\u001b[0m\u001b[0mfix_lines\u001b[0m\u001b[0;34m(\u001b[0m\u001b[0map_out_formatted\u001b[0m\u001b[0;34m,\u001b[0m\u001b[0moptions\u001b[0m\u001b[0;34m=\u001b[0m\u001b[0;34m{\u001b[0m\u001b[0;34m}\u001b[0m\u001b[0;34m)\u001b[0m\u001b[0;34m\u001b[0m\u001b[0;34m\u001b[0m\u001b[0m\n\u001b[0m",
      "\u001b[0;32m~/anaconda3/envs/python3/lib/python3.6/site-packages/autopep8.py\u001b[0m in \u001b[0;36mfix_lines\u001b[0;34m(source_lines, options, filename)\u001b[0m\n\u001b[1;32m   3450\u001b[0m     \u001b[0;31m# Transform everything to line feed. Then change them back to original\u001b[0m\u001b[0;34m\u001b[0m\u001b[0;34m\u001b[0m\u001b[0;34m\u001b[0m\u001b[0m\n\u001b[1;32m   3451\u001b[0m     \u001b[0;31m# before returning fixed source code.\u001b[0m\u001b[0;34m\u001b[0m\u001b[0;34m\u001b[0m\u001b[0;34m\u001b[0m\u001b[0m\n\u001b[0;32m-> 3452\u001b[0;31m     \u001b[0moriginal_newline\u001b[0m \u001b[0;34m=\u001b[0m \u001b[0mfind_newline\u001b[0m\u001b[0;34m(\u001b[0m\u001b[0msource_lines\u001b[0m\u001b[0;34m)\u001b[0m\u001b[0;34m\u001b[0m\u001b[0;34m\u001b[0m\u001b[0m\n\u001b[0m\u001b[1;32m   3453\u001b[0m     \u001b[0mtmp_source\u001b[0m \u001b[0;34m=\u001b[0m \u001b[0;34m''\u001b[0m\u001b[0;34m.\u001b[0m\u001b[0mjoin\u001b[0m\u001b[0;34m(\u001b[0m\u001b[0mnormalize_line_endings\u001b[0m\u001b[0;34m(\u001b[0m\u001b[0msource_lines\u001b[0m\u001b[0;34m,\u001b[0m \u001b[0;34m'\\n'\u001b[0m\u001b[0;34m)\u001b[0m\u001b[0;34m)\u001b[0m\u001b[0;34m\u001b[0m\u001b[0;34m\u001b[0m\u001b[0m\n\u001b[1;32m   3454\u001b[0m \u001b[0;34m\u001b[0m\u001b[0m\n",
      "\u001b[0;32m~/anaconda3/envs/python3/lib/python3.6/site-packages/autopep8.py\u001b[0m in \u001b[0;36mfind_newline\u001b[0;34m(source)\u001b[0m\n\u001b[1;32m   1813\u001b[0m \u001b[0;34m\u001b[0m\u001b[0m\n\u001b[1;32m   1814\u001b[0m     \"\"\"\n\u001b[0;32m-> 1815\u001b[0;31m     \u001b[0;32massert\u001b[0m \u001b[0;32mnot\u001b[0m \u001b[0misinstance\u001b[0m\u001b[0;34m(\u001b[0m\u001b[0msource\u001b[0m\u001b[0;34m,\u001b[0m \u001b[0municode\u001b[0m\u001b[0;34m)\u001b[0m\u001b[0;34m\u001b[0m\u001b[0;34m\u001b[0m\u001b[0m\n\u001b[0m\u001b[1;32m   1816\u001b[0m \u001b[0;34m\u001b[0m\u001b[0m\n\u001b[1;32m   1817\u001b[0m     \u001b[0mcounter\u001b[0m \u001b[0;34m=\u001b[0m \u001b[0mcollections\u001b[0m\u001b[0;34m.\u001b[0m\u001b[0mdefaultdict\u001b[0m\u001b[0;34m(\u001b[0m\u001b[0mint\u001b[0m\u001b[0;34m)\u001b[0m\u001b[0;34m\u001b[0m\u001b[0;34m\u001b[0m\u001b[0m\n",
      "\u001b[0;31mAssertionError\u001b[0m: "
     ]
    }
   ],
   "source": [
    "autopep8.fix_lines(ap_out_formatted,options={})"
   ]
  },
  {
   "cell_type": "code",
   "execution_count": 136,
   "metadata": {
    "scrolled": true
   },
   "outputs": [],
   "source": [
    "#!conda install reindent -y"
   ]
  },
  {
   "cell_type": "code",
   "execution_count": 96,
   "metadata": {},
   "outputs": [],
   "source": [
    "#import reindent"
   ]
  },
  {
   "cell_type": "code",
   "execution_count": null,
   "metadata": {},
   "outputs": [],
   "source": []
  },
  {
   "cell_type": "code",
   "execution_count": null,
   "metadata": {},
   "outputs": [],
   "source": []
  }
 ],
 "metadata": {
  "kernelspec": {
   "display_name": "conda_python3",
   "language": "python",
   "name": "conda_python3"
  },
  "language_info": {
   "codemirror_mode": {
    "name": "ipython",
    "version": 3
   },
   "file_extension": ".py",
   "mimetype": "text/x-python",
   "name": "python",
   "nbconvert_exporter": "python",
   "pygments_lexer": "ipython3",
   "version": "3.6.10"
  }
 },
 "nbformat": 4,
 "nbformat_minor": 4
}
