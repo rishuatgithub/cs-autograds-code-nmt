{
 "cells": [
  {
   "cell_type": "code",
   "execution_count": 1,
   "metadata": {},
   "outputs": [],
   "source": [
    "import ast"
   ]
  },
  {
   "cell_type": "code",
   "execution_count": 75,
   "metadata": {},
   "outputs": [
    {
     "data": {
      "text/plain": [
       "'def sum(a,b):\\n    plus = a+b\\n    return plus\\n'"
      ]
     },
     "execution_count": 75,
     "metadata": {},
     "output_type": "execute_result"
    }
   ],
   "source": [
    "data = '''def sum(a,b):\n",
    "    plus = a+b\n",
    "    return plus\n",
    "'''\n",
    "\n",
    "data"
   ]
  },
  {
   "cell_type": "code",
   "execution_count": 104,
   "metadata": {},
   "outputs": [
    {
     "data": {
      "text/plain": [
       "'def f ( target , array ) : \\n \\t count = 0 \\n for str in array : \\n \\t if target == str : \\n \\t count += 1 \\n \\t \\t return count \\n \\t \\n'"
      ]
     },
     "execution_count": 104,
     "metadata": {},
     "output_type": "execute_result"
    }
   ],
   "source": [
    "generated_data = ['def','f','(','target',',',\n",
    " 'array',')', ':','NEW_LINE','INDENT','count','=','0','NEW_LINE','for','str','in','array',':',\n",
    " 'NEW_LINE','INDENT','if','target','==','str',':','NEW_LINE','INDENT','count','+=','1',\n",
    " 'NEW_LINE','DEDENT','DEDENT','return','count','NEW_LINE','DEDENT','NEW_LINE']\n",
    "\n",
    "generated_data = [ d.replace(\"NEW_LINE\",\"\\n\").replace(\"INDENT\",\"\\t\") for d in generated_data]\n",
    "data2 = ' '.join(generated_data)\n",
    "data2"
   ]
  },
  {
   "cell_type": "code",
   "execution_count": 106,
   "metadata": {},
   "outputs": [],
   "source": [
    "def f(target, array):\n",
    "    count = 0\n",
    "    for str in array:\n",
    "            if target == str:\n",
    "                    count+=1\n",
    "    return count"
   ]
  },
  {
   "cell_type": "code",
   "execution_count": 105,
   "metadata": {},
   "outputs": [
    {
     "ename": "IndentationError",
     "evalue": "unindent does not match any outer indentation level (<unknown>, line 3)",
     "output_type": "error",
     "traceback": [
      "Traceback \u001b[0;36m(most recent call last)\u001b[0m:\n",
      "  File \u001b[1;32m\"/Users/rishushrivastava/anaconda3/envs/nlpdemo/lib/python3.8/site-packages/IPython/core/interactiveshell.py\"\u001b[0m, line \u001b[1;32m3418\u001b[0m, in \u001b[1;35mrun_code\u001b[0m\n    exec(code_obj, self.user_global_ns, self.user_ns)\n",
      "  File \u001b[1;32m\"<ipython-input-105-38acc8f3ca90>\"\u001b[0m, line \u001b[1;32m1\u001b[0m, in \u001b[1;35m<module>\u001b[0m\n    tree = ast.parse(data2)\n",
      "\u001b[0;36m  File \u001b[0;32m\"/Users/rishushrivastava/anaconda3/envs/nlpdemo/lib/python3.8/ast.py\"\u001b[0;36m, line \u001b[0;32m47\u001b[0;36m, in \u001b[0;35mparse\u001b[0;36m\u001b[0m\n\u001b[0;31m    return compile(source, filename, mode, flags,\u001b[0m\n",
      "\u001b[0;36m  File \u001b[0;32m\"<unknown>\"\u001b[0;36m, line \u001b[0;32m3\u001b[0m\n\u001b[0;31m    for str in array :\u001b[0m\n\u001b[0m                       ^\u001b[0m\n\u001b[0;31mIndentationError\u001b[0m\u001b[0;31m:\u001b[0m unindent does not match any outer indentation level\n"
     ]
    }
   ],
   "source": [
    "tree = ast.parse(data2)\n",
    "\n",
    "tree"
   ]
  },
  {
   "cell_type": "code",
   "execution_count": 48,
   "metadata": {},
   "outputs": [
    {
     "name": "stdout",
     "output_type": "stream",
     "text": [
      "Module\n",
      "FunctionDef\n",
      "arguments\n",
      "arg\n",
      "arg\n",
      "Assign\n",
      "Name:  plus\n",
      "BinOp\n",
      "Name:  a\n",
      "Add\n",
      "Name:  b\n",
      "Return\n",
      "Name:  plus\n"
     ]
    }
   ],
   "source": [
    "class C(ast.NodeVisitor):\n",
    "    def generic_visit(self, node):\n",
    "        print(type(node).__name__)\n",
    "        ast.NodeVisitor.generic_visit(self, node)\n",
    "        \n",
    "    def visit_Name(self, node):\n",
    "        print(\"Name: \", node.id)\n",
    "        \n",
    "\n",
    "c = C()\n",
    "c.visit(tree)"
   ]
  },
  {
   "cell_type": "code",
   "execution_count": 49,
   "metadata": {},
   "outputs": [
    {
     "data": {
      "text/plain": [
       "\"Module(body=[FunctionDef(name='sum', args=arguments(posonlyargs=[], args=[arg(arg='a', annotation=None, type_comment=None), arg(arg='b', annotation=None, type_comment=None)], vararg=None, kwonlyargs=[], kw_defaults=[], kwarg=None, defaults=[]), body=[Assign(targets=[Name(id='plus', ctx=Store())], value=BinOp(left=Name(id='a', ctx=Load()), op=Add(), right=Name(id='b', ctx=Load())), type_comment=None), Return(value=Name(id='plus', ctx=Load()))], decorator_list=[], returns=None, type_comment=None)], type_ignores=[])\""
      ]
     },
     "execution_count": 49,
     "metadata": {},
     "output_type": "execute_result"
    }
   ],
   "source": [
    "ast.dump(tree, include_attributes=False)"
   ]
  },
  {
   "cell_type": "code",
   "execution_count": 51,
   "metadata": {},
   "outputs": [],
   "source": [
    "from _ast import AST\n",
    "import ast\n",
    "import json\n",
    "\n",
    "def ast2json(node):\n",
    "    \n",
    "    if not isinstance(node, AST):\n",
    "        raise TypeError( 'expected AST, got %r' % node.__class__.__name__ )\n",
    "        \n",
    "    def _format( node ):\n",
    "        if isinstance(node, AST):\n",
    "            fields = [('_PyType', _format( node.__class__.__name__ ))]\n",
    "            fields += [( a, _format(b)) for a, b in iter_fields( node )]\n",
    "            return '{ %s }' % ', '.join(( '\"%s\": %s' % field for field in fields))\n",
    "\n",
    "        if isinstance( node, list ):\n",
    "            return '[ %s ]' % ', '.join([ _format( x ) for x in node ])\n",
    "\n",
    "        return json.dumps( node )\n",
    "    \n",
    "    return _format( node )\n",
    "\n",
    "def iter_fields(node):\n",
    "    for field in node._fields:\n",
    "        try:\n",
    "            yield field, getattr( node, field )\n",
    "        except AttributeError:\n",
    "            pass"
   ]
  },
  {
   "cell_type": "code",
   "execution_count": 52,
   "metadata": {},
   "outputs": [
    {
     "data": {
      "text/plain": [
       "<_ast.Module at 0x7fbf3f824e50>"
      ]
     },
     "execution_count": 52,
     "metadata": {},
     "output_type": "execute_result"
    }
   ],
   "source": [
    "datap = ast.parse(data)\n",
    "datap"
   ]
  },
  {
   "cell_type": "code",
   "execution_count": 57,
   "metadata": {},
   "outputs": [
    {
     "name": "stdout",
     "output_type": "stream",
     "text": [
      "{ \"_PyType\": \"Module\", \"body\": [ { \"_PyType\": \"FunctionDef\", \"name\": \"sum\", \"args\": { \"_PyType\": \"arguments\", \"posonlyargs\": [  ], \"args\": [ { \"_PyType\": \"arg\", \"arg\": \"a\", \"annotation\": null, \"type_comment\": null }, { \"_PyType\": \"arg\", \"arg\": \"b\", \"annotation\": null, \"type_comment\": null } ], \"vararg\": null, \"kwonlyargs\": [  ], \"kw_defaults\": [  ], \"kwarg\": null, \"defaults\": [  ] }, \"body\": [ { \"_PyType\": \"Assign\", \"targets\": [ { \"_PyType\": \"Name\", \"id\": \"plus\", \"ctx\": { \"_PyType\": \"Store\" } } ], \"value\": { \"_PyType\": \"BinOp\", \"left\": { \"_PyType\": \"Name\", \"id\": \"a\", \"ctx\": { \"_PyType\": \"Load\" } }, \"op\": { \"_PyType\": \"Add\" }, \"right\": { \"_PyType\": \"Name\", \"id\": \"b\", \"ctx\": { \"_PyType\": \"Load\" } } }, \"type_comment\": null }, { \"_PyType\": \"Return\", \"value\": { \"_PyType\": \"Name\", \"id\": \"plus\", \"ctx\": { \"_PyType\": \"Load\" } } } ], \"decorator_list\": [  ], \"returns\": null, \"type_comment\": null } ], \"type_ignores\": [  ] }\n"
     ]
    }
   ],
   "source": [
    "a2j = ast2json(datap)\n",
    "print(a2j)"
   ]
  },
  {
   "cell_type": "code",
   "execution_count": 60,
   "metadata": {},
   "outputs": [],
   "source": [
    "a2j = json.loads(a2j)"
   ]
  },
  {
   "cell_type": "code",
   "execution_count": 68,
   "metadata": {},
   "outputs": [
    {
     "data": {
      "text/plain": [
       "[{'_PyType': 'Assign',\n",
       "  'targets': [{'_PyType': 'Name', 'id': 'plus', 'ctx': {'_PyType': 'Store'}}],\n",
       "  'value': {'_PyType': 'BinOp',\n",
       "   'left': {'_PyType': 'Name', 'id': 'a', 'ctx': {'_PyType': 'Load'}},\n",
       "   'op': {'_PyType': 'Add'},\n",
       "   'right': {'_PyType': 'Name', 'id': 'b', 'ctx': {'_PyType': 'Load'}}},\n",
       "  'type_comment': None},\n",
       " {'_PyType': 'Return',\n",
       "  'value': {'_PyType': 'Name', 'id': 'plus', 'ctx': {'_PyType': 'Load'}}}]"
      ]
     },
     "execution_count": 68,
     "metadata": {},
     "output_type": "execute_result"
    }
   ],
   "source": [
    "a2j['body'][0]['body']"
   ]
  },
  {
   "cell_type": "code",
   "execution_count": null,
   "metadata": {},
   "outputs": [],
   "source": []
  }
 ],
 "metadata": {
  "kernelspec": {
   "display_name": "Python 3",
   "language": "python",
   "name": "python3"
  },
  "language_info": {
   "codemirror_mode": {
    "name": "ipython",
    "version": 3
   },
   "file_extension": ".py",
   "mimetype": "text/x-python",
   "name": "python",
   "nbconvert_exporter": "python",
   "pygments_lexer": "ipython3",
   "version": "3.8.2"
  }
 },
 "nbformat": 4,
 "nbformat_minor": 4
}
