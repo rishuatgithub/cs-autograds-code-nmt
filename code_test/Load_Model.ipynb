{
  "nbformat": 4,
  "nbformat_minor": 0,
  "metadata": {
    "kernelspec": {
      "display_name": "Python 3",
      "language": "python",
      "name": "python3"
    },
    "language_info": {
      "codemirror_mode": {
        "name": "ipython",
        "version": 3
      },
      "file_extension": ".py",
      "mimetype": "text/x-python",
      "name": "python",
      "nbconvert_exporter": "python",
      "pygments_lexer": "ipython3",
      "version": "3.8.2"
    },
    "colab": {
      "name": "Load Model.ipynb",
      "provenance": [],
      "collapsed_sections": [],
      "include_colab_link": true
    },
    "accelerator": "GPU"
  },
  "cells": [
    {
      "cell_type": "markdown",
      "metadata": {
        "id": "view-in-github",
        "colab_type": "text"
      },
      "source": [
        "<a href=\"https://colab.research.google.com/github/rishuatgithub/cs-autograds-code-nmt/blob/main/Load_Model.ipynb\" target=\"_parent\"><img src=\"https://colab.research.google.com/assets/colab-badge.svg\" alt=\"Open In Colab\"/></a>"
      ]
    },
    {
      "cell_type": "code",
      "metadata": {
        "colab": {
          "base_uri": "https://localhost:8080/"
        },
        "id": "vK1rqKZ1qBjd",
        "outputId": "58da8868-5801-45b9-e67c-74e471105b98"
      },
      "source": [
        "from google.colab import drive\n",
        "drive.mount('/content/drive/')"
      ],
      "execution_count": 33,
      "outputs": [
        {
          "output_type": "stream",
          "text": [
            "Drive already mounted at /content/drive/; to attempt to forcibly remount, call drive.mount(\"/content/drive/\", force_remount=True).\n"
          ],
          "name": "stdout"
        }
      ]
    },
    {
      "cell_type": "code",
      "metadata": {
        "colab": {
          "base_uri": "https://localhost:8080/"
        },
        "id": "bBs2LGynqn_X",
        "outputId": "4b6940f7-f077-40d9-cc78-97fa876e8334"
      },
      "source": [
        "cd '/content/drive/MyDrive/cs-autograds-code-nmt/'"
      ],
      "execution_count": 34,
      "outputs": [
        {
          "output_type": "stream",
          "text": [
            "/content/drive/MyDrive/cs-autograds-code-nmt\n"
          ],
          "name": "stdout"
        }
      ]
    },
    {
      "cell_type": "code",
      "metadata": {
        "id": "6DD5O-XdobHd"
      },
      "source": [
        "import torch\n",
        "import torch.nn as nn\n",
        "\n",
        "import numpy as np\n",
        "import pandas as pd\n",
        "import os\n",
        "import sys"
      ],
      "execution_count": 35,
      "outputs": []
    },
    {
      "cell_type": "code",
      "metadata": {
        "colab": {
          "base_uri": "https://localhost:8080/"
        },
        "id": "FgwuGfArobHl",
        "outputId": "b50be054-2a43-48ce-cb09-c9879053d777"
      },
      "source": [
        "!pip install fastbpe clang sacrebleu==\"1.2.11\""
      ],
      "execution_count": 36,
      "outputs": [
        {
          "output_type": "stream",
          "text": [
            "Requirement already satisfied: fastbpe in /usr/local/lib/python3.6/dist-packages (0.1.0)\n",
            "Requirement already satisfied: clang in /usr/local/lib/python3.6/dist-packages (11.0)\n",
            "Requirement already satisfied: sacrebleu==1.2.11 in /usr/local/lib/python3.6/dist-packages (1.2.11)\n",
            "Requirement already satisfied: typing in /usr/local/lib/python3.6/dist-packages (from sacrebleu==1.2.11) (3.7.4.3)\n"
          ],
          "name": "stdout"
        }
      ]
    },
    {
      "cell_type": "code",
      "metadata": {
        "id": "HxYmdMtjuEJj"
      },
      "source": [
        "#!pip install git+https://github.com/llvm/llvm-project.git"
      ],
      "execution_count": 37,
      "outputs": []
    },
    {
      "cell_type": "code",
      "metadata": {
        "id": "ltzWBzlcobHm"
      },
      "source": [
        "import fastBPE\n",
        "\n",
        "import preprocessing.src.code_tokenizer as code_tokenizer\n",
        "from XLM.src.data.dictionary import Dictionary, BOS_WORD, EOS_WORD, PAD_WORD, UNK_WORD, MASK_WORD\n",
        "from XLM.src.model import build_model\n",
        "from XLM.src.utils import AttrDict"
      ],
      "execution_count": 40,
      "outputs": []
    },
    {
      "cell_type": "code",
      "metadata": {
        "colab": {
          "base_uri": "https://localhost:8080/"
        },
        "id": "e6HxKWvHobHm",
        "outputId": "691c7290-b9c4-4dba-8278-e99eab517438"
      },
      "source": [
        "device = torch.device(\"cuda\" if torch.cuda.is_available() else \"cpu\")\n",
        "device"
      ],
      "execution_count": 41,
      "outputs": [
        {
          "output_type": "execute_result",
          "data": {
            "text/plain": [
              "device(type='cuda')"
            ]
          },
          "metadata": {
            "tags": []
          },
          "execution_count": 41
        }
      ]
    },
    {
      "cell_type": "code",
      "metadata": {
        "id": "gi3pqeCrobHn"
      },
      "source": [
        "MODEL_PATH='model/model_1.pth'\n",
        "\n",
        "model = torch.load(MODEL_PATH, map_location=device)"
      ],
      "execution_count": 42,
      "outputs": []
    },
    {
      "cell_type": "code",
      "metadata": {
        "scrolled": true,
        "id": "KQt46k2ZobHo"
      },
      "source": [
        "model"
      ],
      "execution_count": null,
      "outputs": []
    },
    {
      "cell_type": "code",
      "metadata": {
        "id": "etU-WJnLobHp"
      },
      "source": [
        "### splitting the model params\n",
        "\n",
        "model['encoder'] = {(k[len('module.'):] if k.startswith('module.') else k):v for k, v in model['encoder'].items()}"
      ],
      "execution_count": 44,
      "outputs": []
    },
    {
      "cell_type": "code",
      "metadata": {
        "id": "IhH_DEibobHp"
      },
      "source": [
        "if 'decoder' in model:\n",
        "    decoders_names = ['decoder']\n",
        "else:\n",
        "    decoders_names = ['decoder_0','decoder_1']"
      ],
      "execution_count": 45,
      "outputs": []
    },
    {
      "cell_type": "code",
      "metadata": {
        "id": "iW8WJl9PobHp"
      },
      "source": [
        "for decoder_name in decoders_names:\n",
        "    model[decoder_name] = {(k[len('module.'):] if k.startswith('module.') else k):v for k, v in model[decoder_name].items()}"
      ],
      "execution_count": 46,
      "outputs": []
    },
    {
      "cell_type": "code",
      "metadata": {
        "colab": {
          "base_uri": "https://localhost:8080/"
        },
        "id": "zl9IX-O1obHp",
        "outputId": "3436f80c-018b-4de4-df28-a9d8e841f4f1"
      },
      "source": [
        "'decoder' in model or ('decoder_0' in model and 'decoder_1' in model)"
      ],
      "execution_count": 47,
      "outputs": [
        {
          "output_type": "execute_result",
          "data": {
            "text/plain": [
              "True"
            ]
          },
          "metadata": {
            "tags": []
          },
          "execution_count": 47
        }
      ]
    },
    {
      "cell_type": "code",
      "metadata": {
        "id": "WtGHNBzVobHq"
      },
      "source": [
        "model['decoder']"
      ],
      "execution_count": null,
      "outputs": []
    },
    {
      "cell_type": "code",
      "metadata": {
        "id": "BYelws46obHq"
      },
      "source": [
        "model['encoder']"
      ],
      "execution_count": null,
      "outputs": []
    },
    {
      "cell_type": "code",
      "metadata": {
        "id": "sXXEXJqlobHr"
      },
      "source": [
        "model_params = AttrDict(model['params'])"
      ],
      "execution_count": 50,
      "outputs": []
    },
    {
      "cell_type": "code",
      "metadata": {
        "id": "wNKHmSVxobHr"
      },
      "source": [
        "model_params"
      ],
      "execution_count": null,
      "outputs": []
    },
    {
      "cell_type": "code",
      "metadata": {
        "colab": {
          "base_uri": "https://localhost:8080/"
        },
        "id": "6QdwhLOIobHr",
        "outputId": "9fb0026e-5e7b-4b68-bae2-8f7c6eea63f8"
      },
      "source": [
        "dico = Dictionary(model['dico_id2word'], model['dico_word2id'], model['dico_counts'])\n",
        "\n",
        "dico"
      ],
      "execution_count": 52,
      "outputs": [
        {
          "output_type": "execute_result",
          "data": {
            "text/plain": [
              "<XLM.src.data.dictionary.Dictionary at 0x7f867a68b908>"
            ]
          },
          "metadata": {
            "tags": []
          },
          "execution_count": 52
        }
      ]
    },
    {
      "cell_type": "code",
      "metadata": {
        "colab": {
          "base_uri": "https://localhost:8080/"
        },
        "id": "M7KUwfcnobHs",
        "outputId": "9894b4d2-0689-4ff0-da10-298920cc2f1b"
      },
      "source": [
        "print(model_params.n_words, '\\t', len(dico))\n",
        "print(model_params.bos_index, '\\t', dico.index(BOS_WORD), '\\t', dico.id2word[0]) ## start\n",
        "print(model_params.eos_index, '\\t', dico.index(EOS_WORD), '\\t', dico.id2word[1]) ## end of sentence\n",
        "print(model_params.pad_index, '\\t', dico.index(PAD_WORD), '\\t', dico.id2word[2])\n",
        "print(model_params.unk_index, '\\t', dico.index(UNK_WORD), '\\t', dico.id2word[3])\n",
        "print(model_params.mask_index, '\\t', dico.index(MASK_WORD), '\\t', dico.id2word[5]) # mask word"
      ],
      "execution_count": 53,
      "outputs": [
        {
          "output_type": "stream",
          "text": [
            "63961 \t 63961\n",
            "0 \t 0 \t <s>\n",
            "1 \t 1 \t </s>\n",
            "2 \t 2 \t <pad>\n",
            "3 \t 3 \t <unk>\n",
            "5 \t 5 \t <special1>\n"
          ],
          "name": "stdout"
        }
      ]
    },
    {
      "cell_type": "code",
      "metadata": {
        "colab": {
          "base_uri": "https://localhost:8080/"
        },
        "id": "piiC8uYSobHs",
        "outputId": "4790a4a3-5651-4512-b741-c13118dd45ff"
      },
      "source": [
        "torch._C._cuda_getDevice()"
      ],
      "execution_count": 54,
      "outputs": [
        {
          "output_type": "execute_result",
          "data": {
            "text/plain": [
              "0"
            ]
          },
          "metadata": {
            "tags": []
          },
          "execution_count": 54
        }
      ]
    },
    {
      "cell_type": "code",
      "metadata": {
        "id": "NTRmYUe9obHt"
      },
      "source": [
        "model_params['reload_model'] = ','.join([MODEL_PATH] * 2)\n",
        "#model_params"
      ],
      "execution_count": 55,
      "outputs": []
    },
    {
      "cell_type": "code",
      "metadata": {
        "id": "xP32TqJWobHt"
      },
      "source": [
        "encoder1, decoder1 = build_model(model_params, dico)"
      ],
      "execution_count": 56,
      "outputs": []
    },
    {
      "cell_type": "code",
      "metadata": {
        "id": "TD0dF5tPobHu"
      },
      "source": [
        "encoder = encoder1[0]\n",
        "encoder"
      ],
      "execution_count": null,
      "outputs": []
    },
    {
      "cell_type": "code",
      "metadata": {
        "colab": {
          "base_uri": "https://localhost:8080/"
        },
        "id": "VQdi6lTMobHu",
        "outputId": "f5ae9353-14a5-4f1c-a7ab-710971fb57ec"
      },
      "source": [
        "encoder.load_state_dict(model['encoder'])"
      ],
      "execution_count": 60,
      "outputs": [
        {
          "output_type": "execute_result",
          "data": {
            "text/plain": [
              "<All keys matched successfully>"
            ]
          },
          "metadata": {
            "tags": []
          },
          "execution_count": 60
        }
      ]
    },
    {
      "cell_type": "code",
      "metadata": {
        "id": "0papC5rWobHu"
      },
      "source": [
        "decoder = decoder1[0]\n",
        "decoder"
      ],
      "execution_count": null,
      "outputs": []
    },
    {
      "cell_type": "code",
      "metadata": {
        "colab": {
          "base_uri": "https://localhost:8080/"
        },
        "id": "GrJTqeoYzueQ",
        "outputId": "a3fef6bd-cdb3-4f2a-b6c4-f7b8d3ce355a"
      },
      "source": [
        "decoder.load_state_dict(model['decoder'])"
      ],
      "execution_count": 62,
      "outputs": [
        {
          "output_type": "execute_result",
          "data": {
            "text/plain": [
              "<All keys matched successfully>"
            ]
          },
          "metadata": {
            "tags": []
          },
          "execution_count": 62
        }
      ]
    },
    {
      "cell_type": "code",
      "metadata": {
        "id": "xFjYnDi40kWp"
      },
      "source": [
        "encoder.cuda()\n",
        "decoder.cuda()"
      ],
      "execution_count": null,
      "outputs": []
    },
    {
      "cell_type": "code",
      "metadata": {
        "id": "YvhrSdeY0wOg"
      },
      "source": [
        "lang1=\"java\"\n",
        "lang2=\"python\""
      ],
      "execution_count": 69,
      "outputs": []
    },
    {
      "cell_type": "code",
      "metadata": {
        "id": "e9_Vxcvb2DvR"
      },
      "source": [
        "tokenizer = getattr(code_tokenizer, f'tokenize_{lang1}')\n",
        "detokenizer = getattr(code_tokenizer, f'tokenize_{lang2}')"
      ],
      "execution_count": 70,
      "outputs": []
    },
    {
      "cell_type": "code",
      "metadata": {
        "id": "Xt5s5YxH29H6"
      },
      "source": [
        "lang1 += '_sa'\n",
        "lang2 += '_sa'"
      ],
      "execution_count": 71,
      "outputs": []
    },
    {
      "cell_type": "code",
      "metadata": {
        "id": "FQ6QXG0E2-C-"
      },
      "source": [
        "lang1_id = model_params.lang2id[lang1]\n",
        "lang2_id = model_params.lang2id[lang2]"
      ],
      "execution_count": 72,
      "outputs": []
    },
    {
      "cell_type": "code",
      "metadata": {
        "colab": {
          "base_uri": "https://localhost:8080/",
          "height": 54
        },
        "id": "DYFRDmNj4syf",
        "outputId": "998498d0-1181-474f-fc66-692ee212aca2"
      },
      "source": [
        "input=\"int f(String target, ArrayList<String> array) { \"+ \\\n",
        "  \"  int count = 0; \"+ \\\n",
        "  \"  for (String str: array) { \"+ \\\n",
        "  \"      if (target.equals(str)) { \"+ \\\n",
        "  \"         count++; \"+ \\\n",
        "  \"     } \"+ \\\n",
        "  \"  } \"+ \\\n",
        "  \"  return count; \"+ \\\n",
        "\"}\"\n",
        "\n",
        "input"
      ],
      "execution_count": 75,
      "outputs": [
        {
          "output_type": "execute_result",
          "data": {
            "application/vnd.google.colaboratory.intrinsic+json": {
              "type": "string"
            },
            "text/plain": [
              "'int f(String target, ArrayList<String> array) {   int count = 0;   for (String str: array) {       if (target.equals(str)) {          count++;      }   }   return count; }'"
            ]
          },
          "metadata": {
            "tags": []
          },
          "execution_count": 75
        }
      ]
    },
    {
      "cell_type": "code",
      "metadata": {
        "id": "pNXWLGHo5454"
      },
      "source": [
        "BPE_PATH='/content/drive/MyDrive/cs-autograds-code-nmt/data/BPE_with_comments_codes'\n",
        "\n",
        "bpe_model = fastBPE.fastBPE(os.path.abspath(BPE_PATH))"
      ],
      "execution_count": 80,
      "outputs": []
    },
    {
      "cell_type": "code",
      "metadata": {
        "id": "vFhc8AH84eDS"
      },
      "source": [
        "tokens = [t for t in tokenizer(input)]\n",
        "tokens = bpe_model.apply(tokens)\n",
        "tokens = ['</s>'] + tokens + ['</s>']\n",
        "input = \" \".join(tokens)"
      ],
      "execution_count": 81,
      "outputs": []
    },
    {
      "cell_type": "code",
      "metadata": {
        "colab": {
          "base_uri": "https://localhost:8080/",
          "height": 54
        },
        "id": "FRUjiJly4fZm",
        "outputId": "11871c81-c282-41a1-9f85-ae9f02a4ea93"
      },
      "source": [
        "input"
      ],
      "execution_count": 82,
      "outputs": [
        {
          "output_type": "execute_result",
          "data": {
            "application/vnd.google.colaboratory.intrinsic+json": {
              "type": "string"
            },
            "text/plain": [
              "'</s> int f ( String target , ArrayList < String > array ) { int count = 0 ; for ( String str : array ) { if ( target . equals ( str ) ) { count ++ ; } } return count ; } </s>'"
            ]
          },
          "metadata": {
            "tags": []
          },
          "execution_count": 82
        }
      ]
    },
    {
      "cell_type": "code",
      "metadata": {
        "id": "Nxh_njVP7qee"
      },
      "source": [
        "len1 = len(input.split())\n",
        "len1 = torch.LongTensor(1).fill_(len1).to(device)\n",
        "\n",
        "x1 = torch.LongTensor([dico.index(w) for w in input.split()]).to(device)[:, None]\n",
        "\n",
        "langs1 = x1.clone().fill_(lang1_id)\n",
        "enc1 = encoder('fwd', x=x1, lengths=len1, langs=langs1, causal=False)\n",
        "enc1 = enc1.transpose(0, 1)"
      ],
      "execution_count": 86,
      "outputs": []
    },
    {
      "cell_type": "code",
      "metadata": {
        "id": "xrDFHOwI8ixE"
      },
      "source": [
        "x2, len2 = decoder.generate(enc1,\n",
        "                            len1,\n",
        "                            lang2_id,\n",
        "                            max_len=int(min(model_params.max_len, 3 * len1.max().item() + 10)),\n",
        "                            sample_temperature=None)"
      ],
      "execution_count": 90,
      "outputs": []
    },
    {
      "cell_type": "code",
      "metadata": {
        "colab": {
          "base_uri": "https://localhost:8080/"
        },
        "id": "cKcpANiF85dE",
        "outputId": "3331124c-9e6d-4b97-a27a-e0ffcd66b35e"
      },
      "source": [
        "len2"
      ],
      "execution_count": 92,
      "outputs": [
        {
          "output_type": "execute_result",
          "data": {
            "text/plain": [
              "tensor([40], device='cuda:0')"
            ]
          },
          "metadata": {
            "tags": []
          },
          "execution_count": 92
        }
      ]
    },
    {
      "cell_type": "code",
      "metadata": {
        "id": "s2FONkw89IHT"
      },
      "source": [
        "tok = []\n",
        "for i in range(x2.shape[1]):\n",
        "  wid = [dico[x2[j, i].item()] for j in range(len(x2))][1:]\n",
        "  wid = wid[:wid.index(EOS_WORD)] if EOS_WORD in wid else wid\n",
        "  tok.append(\" \".join(wid).replace(\"@@ \", \"\"))\n",
        "\n",
        "results = []\n",
        "for t in tok:\n",
        "  results.append(detokenizer(t))\n",
        "  #return results\n",
        "  #print(detokenizer(t))"
      ],
      "execution_count": 95,
      "outputs": []
    },
    {
      "cell_type": "code",
      "metadata": {
        "colab": {
          "base_uri": "https://localhost:8080/"
        },
        "id": "dOU_QhAQ9pFW",
        "outputId": "03ba64ab-5d3c-4022-d903-6d113451f01d"
      },
      "source": [
        "for out in results[0]:\n",
        "  #print(\"=\" * 20)\n",
        "  if out == 'NEWLINE':\n",
        "    print(\"\\n\"+out)\n",
        "  else:\n",
        "    print(out)"
      ],
      "execution_count": 104,
      "outputs": [
        {
          "output_type": "stream",
          "text": [
            "def\n",
            "f\n",
            "(\n",
            "target\n",
            ",\n",
            "array\n",
            ")\n",
            ":\n",
            "NEW_LINE\n",
            "INDENT\n",
            "count\n",
            "=\n",
            "0\n",
            "NEW_LINE\n",
            "for\n",
            "str\n",
            "in\n",
            "array\n",
            ":\n",
            "NEW_LINE\n",
            "INDENT\n",
            "if\n",
            "target\n",
            "==\n",
            "str\n",
            ":\n",
            "NEW_LINE\n",
            "INDENT\n",
            "count\n",
            "+=\n",
            "1\n",
            "NEW_LINE\n",
            "DEDENT\n",
            "DEDENT\n",
            "return\n",
            "count\n",
            "NEW_LINE\n",
            "DEDENT\n",
            "NEW_LINE\n"
          ],
          "name": "stdout"
        }
      ]
    },
    {
      "cell_type": "code",
      "metadata": {
        "id": "meLnlx41923c"
      },
      "source": [
        ""
      ],
      "execution_count": null,
      "outputs": []
    }
  ]
}